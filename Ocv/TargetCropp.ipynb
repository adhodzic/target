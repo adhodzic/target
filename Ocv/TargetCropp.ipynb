{
 "cells": [
  {
   "cell_type": "code",
   "execution_count": 22,
   "metadata": {},
   "outputs": [],
   "source": [
    "import cv2\n",
    "import numpy as np\n",
    "\n",
    "image = cv2.imread('./images/targets/img4.jpg')\n",
    "w = image.shape[1]\n",
    "h = image.shape[0]\n",
    "\n",
    "ratio = h/w\n",
    "dim = (600, int(600*ratio))\n",
    "image = cv2.resize(image, dim, interpolation = cv2.INTER_AREA)\n",
    "\n",
    "gray = cv2.cvtColor(image,cv2.COLOR_BGR2GRAY)\n",
    "\n",
    "k, gray = cv2.threshold(gray,90,255,cv2.THRESH_BINARY_INV)\n",
    "cv2.imshow('3',gray)\n",
    "cv2.waitKey()\n",
    "edge = cv2.Canny(gray,50,255)\n",
    "contours, hierarchy = cv2.findContours(edge, cv2.RETR_EXTERNAL, cv2.CHAIN_APPROX_SIMPLE)\n",
    "arr = []\n",
    "r = 0\n",
    "for c in contours:\n",
    "    (x,y,w,h) = cv2.boundingRect(c)\n",
    "    if(((x+w)-x) > 190 and ((y+h)-y) > 190):\n",
    "        cv2.circle(image,(int(x+(w/2)),int(y+(h/2))),3,(0,0,255),-1)\n",
    "        r = int((w/2)/6.80)\n",
    "        cv2.rectangle(image,(x,y),(x+w, y+h),(255,0,0),2)\n",
    "\n",
    "\n",
    "cv2.imshow('',edge)\n",
    "cv2.imshow('1',image)\n",
    "cv2.waitKey()\n",
    "cv2.destroyAllWindows()\n"
   ]
  },
  {
   "cell_type": "code",
   "execution_count": null,
   "metadata": {},
   "outputs": [],
   "source": []
  },
  {
   "cell_type": "code",
   "execution_count": null,
   "metadata": {},
   "outputs": [],
   "source": []
  },
  {
   "cell_type": "code",
   "execution_count": null,
   "metadata": {},
   "outputs": [],
   "source": []
  }
 ],
 "metadata": {
  "kernelspec": {
   "display_name": "Python 3",
   "language": "python",
   "name": "python3"
  },
  "language_info": {
   "codemirror_mode": {
    "name": "ipython",
    "version": 3
   },
   "file_extension": ".py",
   "mimetype": "text/x-python",
   "name": "python",
   "nbconvert_exporter": "python",
   "pygments_lexer": "ipython3",
   "version": "3.8.2"
  }
 },
 "nbformat": 4,
 "nbformat_minor": 4
}
